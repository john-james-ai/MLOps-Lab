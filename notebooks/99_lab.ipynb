{
 "cells": [
  {
   "cell_type": "markdown",
   "metadata": {},
   "source": [
    "# Lab"
   ]
  },
  {
   "cell_type": "code",
   "execution_count": 5,
   "metadata": {},
   "outputs": [
    {
     "name": "stdout",
     "output_type": "stream",
     "text": [
      "{'2': OrderedDict([('id', 2), ('cool', True), ('miles', 5)]),\n",
      " '3': OrderedDict([('id', 3), ('cool', True), ('miles', 5)]),\n",
      " '4': OrderedDict([('id', 4), ('cool', True), ('miles', 5)]),\n",
      " '5': OrderedDict([('id', 5), ('cool', True), ('miles', 5)]),\n",
      " '6': OrderedDict([('id', 6), ('cool', True), ('miles', 5)]),\n",
      " '7': OrderedDict([('id', 7), ('cool', True), ('miles', 5)])}\n"
     ]
    }
   ],
   "source": [
    "from pprint import pprint\n",
    "from collections import OrderedDict\n",
    "rows = [(2,True,5,),(3,True,5,),(4,True,5,),(5,True,5,),(6,True,5,),(7,True,5,)]\n",
    "result = {}\n",
    "for row in rows:\n",
    "    rowdict = OrderedDict()\n",
    "    rowdict[\"id\"] = row[0]\n",
    "    rowdict[\"cool\"] = row[1]\n",
    "    rowdict[\"miles\"] = row[2]\n",
    "    result[str(row[0])] = rowdict\n",
    "\n",
    "pprint(result)\n",
    "    \n",
    "\n",
    "\n"
   ]
  }
 ],
 "metadata": {
  "kernelspec": {
   "display_name": "Python 3.10.6 ('recsys')",
   "language": "python",
   "name": "python3"
  },
  "language_info": {
   "codemirror_mode": {
    "name": "ipython",
    "version": 3
   },
   "file_extension": ".py",
   "mimetype": "text/x-python",
   "name": "python",
   "nbconvert_exporter": "python",
   "pygments_lexer": "ipython3",
   "version": "3.10.6"
  },
  "orig_nbformat": 4,
  "vscode": {
   "interpreter": {
    "hash": "b95ac036dd134cdbc0e1cfc871143569fe44ed496162bf6c0ba7d4f738a04ef7"
   }
  }
 },
 "nbformat": 4,
 "nbformat_minor": 2
}
