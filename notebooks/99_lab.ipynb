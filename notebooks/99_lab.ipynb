{
 "cells": [
  {
   "cell_type": "code",
   "execution_count": 3,
   "metadata": {},
   "outputs": [],
   "source": [
    "from recsys.core.services.io import IOService\n"
   ]
  },
  {
   "cell_type": "code",
   "execution_count": 4,
   "metadata": {},
   "outputs": [],
   "source": [
    "ratings_sorted = ratings.sort_values(by=\"timestamp\", ascending=True).reset_index()\n",
    "train_idx = ratings_sorted.index < ratings_sorted.shape[0] * 0.8\n",
    "test_idx = ratings_sorted.index >= ratings_sorted.shape[0] * 0.8"
   ]
  },
  {
   "cell_type": "code",
   "execution_count": 5,
   "metadata": {},
   "outputs": [
    {
     "name": "stdout",
     "output_type": "stream",
     "text": [
      "Ratings shape (25000095, 4)\n",
      "Train shape (20000076, 4)\n",
      "Test shape (5000019, 4)\n"
     ]
    }
   ],
   "source": [
    "train = ratings[train_idx]\n",
    "test = ratings[test_idx]\n",
    "print(f\"Ratings shape {ratings.shape}\")\n",
    "print(f\"Train shape {train.shape}\")\n",
    "print(f\"Test shape {test.shape}\")\n",
    "print(f\"Total Train/Test Rows: {train.shape[0]+test.shape[0]}\")"
   ]
  },
  {
   "cell_type": "code",
   "execution_count": 5,
   "metadata": {},
   "outputs": [
    {
     "name": "stdout",
     "output_type": "stream",
     "text": [
      "type.db\n"
     ]
    }
   ],
   "source": [
    "io = IOService\n",
    "db = io.__name__ + \".db\"\n",
    "print(db)"
   ]
  }
 ],
 "metadata": {
  "kernelspec": {
   "display_name": "recsys",
   "language": "python",
   "name": "python3"
  },
  "language_info": {
   "codemirror_mode": {
    "name": "ipython",
    "version": 3
   },
   "file_extension": ".py",
   "mimetype": "text/x-python",
   "name": "python",
   "nbconvert_exporter": "python",
   "pygments_lexer": "ipython3",
   "version": "3.10.6"
  },
  "orig_nbformat": 4,
  "vscode": {
   "interpreter": {
    "hash": "b95ac036dd134cdbc0e1cfc871143569fe44ed496162bf6c0ba7d4f738a04ef7"
   }
  }
 },
 "nbformat": 4,
 "nbformat_minor": 2
}
