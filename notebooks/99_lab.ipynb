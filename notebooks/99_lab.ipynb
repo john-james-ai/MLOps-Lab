{
 "cells": [
  {
   "cell_type": "code",
   "execution_count": 1,
   "metadata": {},
   "outputs": [],
   "source": [
    "from recsys.core.services.io import IOService\n",
    "RATINGS_FILEPATH = \"data/movielens25m/raw/ratings.csv\"\n",
    "ratings = IOService.read(filepath=RATINGS_FILEPATH)"
   ]
  },
  {
   "cell_type": "code",
   "execution_count": 4,
   "metadata": {},
   "outputs": [],
   "source": [
    "ratings_sorted = ratings.sort_values(by=\"DATETIME\", ascending=True).reset_index()\n",
    "train_idx = ratings_sorted.index < ratings_sorted.shape[0] * 0.8\n",
    "test_idx = ratings_sorted.index >= ratings_sorted.shape[0] * 0.8"
   ]
  },
  {
   "cell_type": "code",
   "execution_count": 5,
   "metadata": {},
   "outputs": [
    {
     "name": "stdout",
     "output_type": "stream",
     "text": [
      "Ratings shape (25000095, 4)\n",
      "Train shape (20000076, 4)\n",
      "Test shape (5000019, 4)\n"
     ]
    }
   ],
   "source": [
    "train = ratings[train_idx]\n",
    "test = ratings[test_idx]\n",
    "print(f\"Ratings shape {ratings.shape}\")\n",
    "print(f\"Train shape {train.shape}\")\n",
    "print(f\"Test shape {test.shape}\")\n",
    "print(f\"Total Train/Test Rows: {train.shape[0]+test.shape[0]}\")"
   ]
  },
  {
   "cell_type": "code",
   "execution_count": 13,
   "metadata": {},
   "outputs": [
    {
     "name": "stdout",
     "output_type": "stream",
     "text": [
      "namespace(name='somename', anotherdict={'inner': 'dict', 'inner2': 'dict2'})\n"
     ]
    },
    {
     "data": {
      "text/plain": [
       "'somename'"
      ]
     },
     "execution_count": 13,
     "metadata": {},
     "output_type": "execute_result"
    }
   ],
   "source": [
    "from types import SimpleNamespace\n",
    "\n",
    "d = {\n",
    "    \"name\": \"somename\",\n",
    "    \"anotherdict\": \n",
    "    {\n",
    "        \"inner\": \"dict\",\n",
    "        \"inner2\": \"dict2\"\n",
    "    }\n",
    "}\n",
    "n = SimpleNamespace(**d)\n",
    "print(n)\n",
    "n.name"
   ]
  },
  {
   "cell_type": "code",
   "execution_count": 24,
   "metadata": {},
   "outputs": [
    {
     "name": "stdout",
     "output_type": "stream",
     "text": [
      "139696876759360\n",
      "a before t [5]\n",
      "139696876759360\n",
      "a after t [5, 10]\n",
      "t.a from  t [5, 10]\n",
      "139696876759360\n",
      "a after update of a [5, 10, 20]\n",
      "t.a from  t [5, 10, 20]\n",
      "139696876759360\n"
     ]
    }
   ],
   "source": [
    "\n",
    "class Test:\n",
    "    def __init__(self, a):\n",
    "        a.append(10)\n",
    "        self._a = a\n",
    "        print(id(self._a))\n",
    "    \n",
    "\n",
    "    @property\n",
    "    def a(self):\n",
    "        return self._a\n",
    "\n",
    "    @a.setter\n",
    "    def a(self, a):\n",
    "        self._a = a\n",
    "a = [5]\n",
    "print(id(a))\n",
    "print(f\"a before t {a}\")\n",
    "t = Test(a)\n",
    "print(f\"a after t {a}\")\n",
    "print(f\"t.a from  t {t.a}\")\n",
    "a.append(20)\n",
    "print(id(a))\n",
    "print(f\"a after update of a {a}\")\n",
    "print(f\"t.a from  t {t.a}\")\n",
    "print(id(t.a))"
   ]
  },
  {
   "cell_type": "code",
   "execution_count": 26,
   "metadata": {},
   "outputs": [
    {
     "name": "stdout",
     "output_type": "stream",
     "text": [
      "94794189153664\n",
      "a before t False\n",
      "94794189153664\n",
      "a after t False\n",
      "t.a from  t False\n",
      "94794189153696\n",
      "a after update of a True\n",
      "t.a from  t False\n",
      "94794189153664\n"
     ]
    }
   ],
   "source": [
    "\n",
    "class Test:\n",
    "    def __init__(self, a):        \n",
    "        self._a = a\n",
    "        print(id(self._a))\n",
    "    \n",
    "\n",
    "    @property\n",
    "    def a(self):\n",
    "        return self._a\n",
    "\n",
    "    @a.setter\n",
    "    def a(self, a):\n",
    "        self._a = a\n",
    "a = False\n",
    "print(id(a))\n",
    "print(f\"a before t {a}\")\n",
    "t = Test(a)\n",
    "print(f\"a after t {a}\")\n",
    "print(f\"t.a from  t {t.a}\")\n",
    "a = True\n",
    "print(id(a))\n",
    "print(f\"a after update of a {a}\")\n",
    "print(f\"t.a from  t {t.a}\")\n",
    "print(id(t.a))"
   ]
  },
  {
   "cell_type": "code",
   "execution_count": 21,
   "metadata": {},
   "outputs": [
    {
     "name": "stdout",
     "output_type": "stream",
     "text": [
      "139696875767088\n",
      "a before t house\n",
      "139696876818288\n",
      "a after t house\n",
      "t.a from  t house_garage\n",
      "139696876818288\n",
      "139696877549248\n",
      "a after update of a [20]\n",
      "t.a from  t house_garage\n",
      "139696876818288\n"
     ]
    }
   ],
   "source": [
    "\n",
    "class Test:\n",
    "    def __init__(self, a):        \n",
    "        self._a = a + \"_garage\"\n",
    "        print(id(self._a))\n",
    "\n",
    "    @property\n",
    "    def a(self):\n",
    "        return self._a\n",
    "\n",
    "    @a.setter\n",
    "    def a(self, a):\n",
    "        self._a = a\n",
    "a = 'house'\n",
    "print(id(a))\n",
    "print(f\"a before t {a}\")\n",
    "t = Test(a)\n",
    "print(f\"a after t {a}\")\n",
    "print(f\"t.a from  t {t.a}\")\n",
    "print(id(t.a))\n",
    "a = [20]\n",
    "print(id(a))\n",
    "print(f\"a after update of a {a}\")\n",
    "print(f\"t.a from  t {t.a}\")\n",
    "print(id(t.a))"
   ]
  },
  {
   "cell_type": "code",
   "execution_count": 22,
   "metadata": {},
   "outputs": [
    {
     "name": "stdout",
     "output_type": "stream",
     "text": [
      "139700913602928\n",
      "a before t 5\n",
      "139700913603248\n",
      "139700913602928\n",
      "a after t 5\n",
      "t.a from  t 15\n",
      "139700913603408\n",
      "139700913603248\n",
      "a after update of a 20\n",
      "t.a from  t 15\n"
     ]
    }
   ],
   "source": [
    "\n",
    "class Test:\n",
    "    def __init__(self, a):        \n",
    "        self._a = a + 10\n",
    "        print(id(self._a))\n",
    "\n",
    "    @property\n",
    "    def a(self):\n",
    "        return self._a\n",
    "\n",
    "    @a.setter\n",
    "    def a(self, a):\n",
    "        self._a = a\n",
    "a = 5\n",
    "print(id(a))\n",
    "print(f\"a before t {a}\")\n",
    "t = Test(a)\n",
    "print(id(a))\n",
    "print(f\"a after t {a}\")\n",
    "print(f\"t.a from  t {t.a}\")\n",
    "a = 20\n",
    "print(id(a))\n",
    "print(id(t.a))\n",
    "print(f\"a after update of a {a}\")\n",
    "print(f\"t.a from  t {t.a}\")"
   ]
  },
  {
   "cell_type": "code",
   "execution_count": 1,
   "metadata": {},
   "outputs": [
    {
     "name": "stdout",
     "output_type": "stream",
     "text": [
      "what?\n",
      "None\n",
      "94351995418432\n",
      "140569242254304\n"
     ]
    }
   ],
   "source": [
    "def mf():\n",
    "    print(\"what?\")\n",
    "\n",
    "x = mf()\n",
    "print(x)\n",
    "print(id(x))\n",
    "print(id(mf))"
   ]
  },
  {
   "cell_type": "code",
   "execution_count": 2,
   "metadata": {},
   "outputs": [
    {
     "name": "stdout",
     "output_type": "stream",
     "text": [
      "kim\n"
     ]
    }
   ],
   "source": [
    "class Parent:\n",
    "    def __init__(self):\n",
    "        self._children = {}\n",
    "        self._name = None\n",
    "\n",
    "    @property\n",
    "    def children(self):\n",
    "        return self._children\n",
    "\n",
    "    @property\n",
    "    def name(self):\n",
    "        return self._name\n",
    "\n",
    "    @name.setter\n",
    "    def name(self, name):\n",
    "        self._name = name\n",
    "    \n",
    "    def add(self, child):\n",
    "        child.parent = self\n",
    "        self._children[child.name] = child\n",
    "    \n",
    "class Child:\n",
    "    def __init__(self):\n",
    "        self._parent = None\n",
    "        self._name = None\n",
    "\n",
    "    @property\n",
    "    def name(self):\n",
    "        return self._name\n",
    "\n",
    "    @name.setter\n",
    "    def name(self, name):\n",
    "        self._name = name\n",
    "    @property\n",
    "    def parent(self):\n",
    "        return self._parent\n",
    "\n",
    "    @parent.setter\n",
    "    def parent(self, parent):\n",
    "        self._parent = parent\n",
    "\n",
    "p = Parent()\n",
    "p.name = \"bob\"\n",
    "\n",
    "c = Child()\n",
    "c.name = \"sonny\"\n",
    "\n",
    "p.add(c)\n",
    "p.name = \"kim\"\n",
    "\n",
    "print(c.parent.name)"
   ]
  },
  {
   "cell_type": "code",
   "execution_count": 1,
   "metadata": {},
   "outputs": [
    {
     "ename": "TypeError",
     "evalue": "B.__init__() got an unexpected keyword argument 'datasources'",
     "output_type": "error",
     "traceback": [
      "\u001b[0;31m---------------------------------------------------------------------------\u001b[0m",
      "\u001b[0;31mTypeError\u001b[0m                                 Traceback (most recent call last)",
      "Cell \u001b[0;32mIn [1], line 9\u001b[0m\n\u001b[1;32m      7\u001b[0m     name: \u001b[39mstr\u001b[39m\n\u001b[1;32m      8\u001b[0m     description: \u001b[39mstr\u001b[39m\n\u001b[0;32m----> 9\u001b[0m b \u001b[39m=\u001b[39m B(\u001b[39m*\u001b[39;49m\u001b[39m*\u001b[39;49mc)\n\u001b[1;32m     10\u001b[0m \u001b[39mprint\u001b[39m(b)\n",
      "\u001b[0;31mTypeError\u001b[0m: B.__init__() got an unexpected keyword argument 'datasources'"
     ]
    }
   ],
   "source": [
    "from dataclasses import dataclass\n",
    "from recsys.core.services.io import IOService\n",
    "fp = \"recsys/data/etl/datasources.yml\"\n",
    "c = IOService.read(fp)\n",
    "@dataclass\n",
    "class B:\n",
    "    name: str\n",
    "    description: str\n",
    "b = B(**c['datasources'])\n",
    "print(b)"
   ]
  },
  {
   "cell_type": "code",
   "execution_count": 4,
   "metadata": {},
   "outputs": [
    {
     "name": "stdout",
     "output_type": "stream",
     "text": [
      "{'name': 'name', 'desc': 'desc'}\n",
      "{'name': 'taskname', 'desc': 'desc'}\n",
      "{'name': 'name', 'desc': 'desc'}\n",
      "{'name': 'taskname', 'desc': 'desc'}\n",
      "{'name': 'name', 'desc': 'desc'}\n",
      "{'name': 'taskname', 'desc': 'desc'}\n",
      "{'name': 'name', 'desc': 'desc'}\n"
     ]
    }
   ],
   "source": [
    "from recsys.core.services.io import IOService\n",
    "fp = \"tests/data/workflow.yml\"\n",
    "config = IOService.read(fp)\n",
    "print(config['job'])\n",
    "for config in config['tasks']:\n",
    "    print(config['task'])\n",
    "    print(config['operator'])\n",
    "    \n"
   ]
  }
 ],
 "metadata": {
  "kernelspec": {
   "display_name": "recsys",
   "language": "python",
   "name": "python3"
  },
  "language_info": {
   "codemirror_mode": {
    "name": "ipython",
    "version": 3
   },
   "file_extension": ".py",
   "mimetype": "text/x-python",
   "name": "python",
   "nbconvert_exporter": "python",
   "pygments_lexer": "ipython3",
   "version": "3.10.6"
  },
  "orig_nbformat": 4,
  "vscode": {
   "interpreter": {
    "hash": "b95ac036dd134cdbc0e1cfc871143569fe44ed496162bf6c0ba7d4f738a04ef7"
   }
  }
 },
 "nbformat": 4,
 "nbformat_minor": 2
}
