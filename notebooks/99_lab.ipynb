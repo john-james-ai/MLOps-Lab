{
 "cells": [
  {
   "cell_type": "code",
   "execution_count": 1,
   "metadata": {},
   "outputs": [],
   "source": [
    "from recsys.core.services.io import IOService\n",
    "RATINGS_FILEPATH = \"data/movielens25m/raw/ratings.csv\"\n",
    "ratings = IOService.read(filepath=RATINGS_FILEPATH)"
   ]
  },
  {
   "cell_type": "code",
   "execution_count": 4,
   "metadata": {},
   "outputs": [],
   "source": [
    "ratings_sorted = ratings.sort_values(by=\"DATETIME\", ascending=True).reset_index()\n",
    "train_idx = ratings_sorted.index < ratings_sorted.shape[0] * 0.8\n",
    "test_idx = ratings_sorted.index >= ratings_sorted.shape[0] * 0.8"
   ]
  },
  {
   "cell_type": "code",
   "execution_count": 5,
   "metadata": {},
   "outputs": [
    {
     "name": "stdout",
     "output_type": "stream",
     "text": [
      "Ratings shape (25000095, 4)\n",
      "Train shape (20000076, 4)\n",
      "Test shape (5000019, 4)\n"
     ]
    }
   ],
   "source": [
    "train = ratings[train_idx]\n",
    "test = ratings[test_idx]\n",
    "print(f\"Ratings shape {ratings.shape}\")\n",
    "print(f\"Train shape {train.shape}\")\n",
    "print(f\"Test shape {test.shape}\")\n",
    "print(f\"Total Train/Test Rows: {train.shape[0]+test.shape[0]}\")"
   ]
  },
  {
   "cell_type": "code",
   "execution_count": 13,
   "metadata": {},
   "outputs": [
    {
     "name": "stdout",
     "output_type": "stream",
     "text": [
      "namespace(name='somename', anotherdict={'inner': 'dict', 'inner2': 'dict2'})\n"
     ]
    },
    {
     "data": {
      "text/plain": [
       "'somename'"
      ]
     },
     "execution_count": 13,
     "metadata": {},
     "output_type": "execute_result"
    }
   ],
   "source": [
    "from types import SimpleNamespace\n",
    "\n",
    "d = {\n",
    "    \"name\": \"somename\",\n",
    "    \"anotherdict\": \n",
    "    {\n",
    "        \"inner\": \"dict\",\n",
    "        \"inner2\": \"dict2\"\n",
    "    }\n",
    "}\n",
    "n = SimpleNamespace(**d)\n",
    "print(n)\n",
    "n.name"
   ]
  },
  {
   "cell_type": "code",
   "execution_count": 24,
   "metadata": {},
   "outputs": [
    {
     "name": "stdout",
     "output_type": "stream",
     "text": [
      "139696876759360\n",
      "a before t [5]\n",
      "139696876759360\n",
      "a after t [5, 10]\n",
      "t.a from  t [5, 10]\n",
      "139696876759360\n",
      "a after update of a [5, 10, 20]\n",
      "t.a from  t [5, 10, 20]\n",
      "139696876759360\n"
     ]
    }
   ],
   "source": [
    "\n",
    "class Test:\n",
    "    def __init__(self, a):\n",
    "        a.append(10)\n",
    "        self._a = a\n",
    "        print(id(self._a))\n",
    "    \n",
    "\n",
    "    @property\n",
    "    def a(self):\n",
    "        return self._a\n",
    "\n",
    "    @a.setter\n",
    "    def a(self, a):\n",
    "        self._a = a\n",
    "a = [5]\n",
    "print(id(a))\n",
    "print(f\"a before t {a}\")\n",
    "t = Test(a)\n",
    "print(f\"a after t {a}\")\n",
    "print(f\"t.a from  t {t.a}\")\n",
    "a.append(20)\n",
    "print(id(a))\n",
    "print(f\"a after update of a {a}\")\n",
    "print(f\"t.a from  t {t.a}\")\n",
    "print(id(t.a))"
   ]
  },
  {
   "cell_type": "code",
   "execution_count": 26,
   "metadata": {},
   "outputs": [
    {
     "name": "stdout",
     "output_type": "stream",
     "text": [
      "94794189153664\n",
      "a before t False\n",
      "94794189153664\n",
      "a after t False\n",
      "t.a from  t False\n",
      "94794189153696\n",
      "a after update of a True\n",
      "t.a from  t False\n",
      "94794189153664\n"
     ]
    }
   ],
   "source": [
    "\n",
    "class Test:\n",
    "    def __init__(self, a):        \n",
    "        self._a = a\n",
    "        print(id(self._a))\n",
    "    \n",
    "\n",
    "    @property\n",
    "    def a(self):\n",
    "        return self._a\n",
    "\n",
    "    @a.setter\n",
    "    def a(self, a):\n",
    "        self._a = a\n",
    "a = False\n",
    "print(id(a))\n",
    "print(f\"a before t {a}\")\n",
    "t = Test(a)\n",
    "print(f\"a after t {a}\")\n",
    "print(f\"t.a from  t {t.a}\")\n",
    "a = True\n",
    "print(id(a))\n",
    "print(f\"a after update of a {a}\")\n",
    "print(f\"t.a from  t {t.a}\")\n",
    "print(id(t.a))"
   ]
  },
  {
   "cell_type": "code",
   "execution_count": 21,
   "metadata": {},
   "outputs": [
    {
     "name": "stdout",
     "output_type": "stream",
     "text": [
      "139696875767088\n",
      "a before t house\n",
      "139696876818288\n",
      "a after t house\n",
      "t.a from  t house_garage\n",
      "139696876818288\n",
      "139696877549248\n",
      "a after update of a [20]\n",
      "t.a from  t house_garage\n",
      "139696876818288\n"
     ]
    }
   ],
   "source": [
    "\n",
    "class Test:\n",
    "    def __init__(self, a):        \n",
    "        self._a = a + \"_garage\"\n",
    "        print(id(self._a))\n",
    "\n",
    "    @property\n",
    "    def a(self):\n",
    "        return self._a\n",
    "\n",
    "    @a.setter\n",
    "    def a(self, a):\n",
    "        self._a = a\n",
    "a = 'house'\n",
    "print(id(a))\n",
    "print(f\"a before t {a}\")\n",
    "t = Test(a)\n",
    "print(f\"a after t {a}\")\n",
    "print(f\"t.a from  t {t.a}\")\n",
    "print(id(t.a))\n",
    "a = [20]\n",
    "print(id(a))\n",
    "print(f\"a after update of a {a}\")\n",
    "print(f\"t.a from  t {t.a}\")\n",
    "print(id(t.a))"
   ]
  },
  {
   "cell_type": "code",
   "execution_count": 22,
   "metadata": {},
   "outputs": [
    {
     "name": "stdout",
     "output_type": "stream",
     "text": [
      "139700913602928\n",
      "a before t 5\n",
      "139700913603248\n",
      "139700913602928\n",
      "a after t 5\n",
      "t.a from  t 15\n",
      "139700913603408\n",
      "139700913603248\n",
      "a after update of a 20\n",
      "t.a from  t 15\n"
     ]
    }
   ],
   "source": [
    "\n",
    "class Test:\n",
    "    def __init__(self, a):        \n",
    "        self._a = a + 10\n",
    "        print(id(self._a))\n",
    "\n",
    "    @property\n",
    "    def a(self):\n",
    "        return self._a\n",
    "\n",
    "    @a.setter\n",
    "    def a(self, a):\n",
    "        self._a = a\n",
    "a = 5\n",
    "print(id(a))\n",
    "print(f\"a before t {a}\")\n",
    "t = Test(a)\n",
    "print(id(a))\n",
    "print(f\"a after t {a}\")\n",
    "print(f\"t.a from  t {t.a}\")\n",
    "a = 20\n",
    "print(id(a))\n",
    "print(id(t.a))\n",
    "print(f\"a after update of a {a}\")\n",
    "print(f\"t.a from  t {t.a}\")"
   ]
  },
  {
   "cell_type": "code",
   "execution_count": 1,
   "metadata": {},
   "outputs": [
    {
     "name": "stdout",
     "output_type": "stream",
     "text": [
      "what?\n",
      "None\n",
      "94351995418432\n",
      "140569242254304\n"
     ]
    }
   ],
   "source": [
    "def mf():\n",
    "    print(\"what?\")\n",
    "\n",
    "x = mf()\n",
    "print(x)\n",
    "print(id(x))\n",
    "print(id(mf))"
   ]
  },
  {
   "cell_type": "code",
   "execution_count": 2,
   "metadata": {},
   "outputs": [
    {
     "name": "stdout",
     "output_type": "stream",
     "text": [
      "kim\n"
     ]
    }
   ],
   "source": [
    "class Parent:\n",
    "    def __init__(self):\n",
    "        self._children = {}\n",
    "        self._name = None\n",
    "\n",
    "    @property\n",
    "    def children(self):\n",
    "        return self._children\n",
    "\n",
    "    @property\n",
    "    def name(self):\n",
    "        return self._name\n",
    "\n",
    "    @name.setter\n",
    "    def name(self, name):\n",
    "        self._name = name\n",
    "    \n",
    "    def add(self, child):\n",
    "        child.parent = self\n",
    "        self._children[child.name] = child\n",
    "    \n",
    "class Child:\n",
    "    def __init__(self):\n",
    "        self._parent = None\n",
    "        self._name = None\n",
    "\n",
    "    @property\n",
    "    def name(self):\n",
    "        return self._name\n",
    "\n",
    "    @name.setter\n",
    "    def name(self, name):\n",
    "        self._name = name\n",
    "    @property\n",
    "    def parent(self):\n",
    "        return self._parent\n",
    "\n",
    "    @parent.setter\n",
    "    def parent(self, parent):\n",
    "        self._parent = parent\n",
    "\n",
    "p = Parent()\n",
    "p.name = \"bob\"\n",
    "\n",
    "c = Child()\n",
    "c.name = \"sonny\"\n",
    "\n",
    "p.add(c)\n",
    "p.name = \"kim\"\n",
    "\n",
    "print(c.parent.name)"
   ]
  },
  {
   "cell_type": "code",
   "execution_count": 8,
   "metadata": {},
   "outputs": [
    {
     "name": "stdout",
     "output_type": "stream",
     "text": [
      "{'datasources': {'name': 'load_data_source_metadata', 'description': 'Creates DataSource objects and loads them into the Database', 'tasks': [{'name': 'load_movielens25m', 'description': 'Creates DataSource for movielens25m and loads it into the Database', 'operator': {'name': 'datasource_loader', 'description': 'Data source loader', 'classname': 'DataSourceLoader', 'module': 'recsys.core.services.operators.loader', 'params': {'datasource': {'name': 'movielens25m', 'website': 'https://grouplens.org/datasets/movielens/', 'description': 'GroupLens Research has collected and made available rating data sets from the MovieLens web site (https://movielens.org).', 'urls': [{'name': 'movielens25m', 'url': 'https://files.grouplens.org/datasets/movielens/ml-25m.zip', 'description': 'MovieLens 25M movie ratings. Stable benchmark dataset. 25 million ratings and one million tag applications applied to 62,000 movies by 162,000 users. Includes tag genome data with 15 million relevance scores across 1,129 tags. Released 12/2019.'}]}}}}, {'name': 'load_spotify', 'description': 'Creates DataSource for spotify and loads it into the Database', 'operator': {'name': 'datasource_loader', 'description': 'Data source loader', 'classname': 'DataSourceLoader', 'module': 'recsys.core.services.operators.loader', 'params': {'datasource': {'name': 'spotify', 'website': 'https://www.aicrowd.com/challenges/spotify-million-playlist-dataset-challenge/dataset_files', 'description': 'A dataset and open-ended challenge for music recommendation research', 'urls': [{'name': 'spotify_million_playlist', 'url': 'https://www.aicrowd.com/challenges/spotify-million-playlist-dataset-challenge/dataset_files?unique_download_uri=191312&challenge_id=277', 'description': 'The dataset contains 1,000,000 playlists, including playlist titles and track titles, created by users on the Spotify platform between January 2010 and October 2017.'}, {'name': 'spotify_million_playlist_challenge', 'url': 'https://www.aicrowd.com/challenges/spotify-million-playlist-dataset-challenge/dataset_files?unique_download_uri=191313&challenge_id=277', 'description': 'As part of the challenge, we release a separate challenge dataset (\"test set\") that consists of 10,000 playlists with incomplete information.'}]}}}}, {'name': 'load_tenrec', 'description': 'Creates DataSource for tenrec and loads it into the Database', 'operator': {'name': 'datasource_loader', 'description': 'Data source loader', 'classname': 'DataSourceLoader', 'module': 'recsys.core.services.operators.loader', 'params': {'datasource': {'name': 'tenrec', 'website': 'https://github.com/yuangh-x/2022-NIPS-Tenrec', 'description': 'A Large-scale Multipurpose Benchmark Dataset for Recommender Systems', 'urls': [{'name': 'tenrec_download_link', 'url': 'https://static.qblv.qq.com/qblv/h5/algo-frontend/tenrec_dataset.html', 'description': 'Tenrec is a large-scale multipurpose benchmark dataset for recommender systems where data was collected from two feeds (articles and videos) recommendation platforms of Tencent.'}]}}}}]}}\n"
     ]
    }
   ],
   "source": [
    "from types import SimpleNamespace\n",
    "from recsys.core.services.io import IOService\n",
    "fp = \"recsys/data/etl/datasources.yml\"\n",
    "c = IOService.read(fp)\n",
    "def f(**kwargs):\n",
    "    print(kwargs)\n",
    "f(**c)"
   ]
  }
 ],
 "metadata": {
  "kernelspec": {
   "display_name": "recsys",
   "language": "python",
   "name": "python3"
  },
  "language_info": {
   "codemirror_mode": {
    "name": "ipython",
    "version": 3
   },
   "file_extension": ".py",
   "mimetype": "text/x-python",
   "name": "python",
   "nbconvert_exporter": "python",
   "pygments_lexer": "ipython3",
   "version": "3.10.6 | packaged by conda-forge | (main, Aug 22 2022, 20:35:26) [GCC 10.4.0]"
  },
  "orig_nbformat": 4,
  "vscode": {
   "interpreter": {
    "hash": "b95ac036dd134cdbc0e1cfc871143569fe44ed496162bf6c0ba7d4f738a04ef7"
   }
  }
 },
 "nbformat": 4,
 "nbformat_minor": 2
}
