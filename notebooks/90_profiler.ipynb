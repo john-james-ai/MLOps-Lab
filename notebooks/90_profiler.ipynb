{
 "cells": [
  {
   "cell_type": "code",
   "execution_count": null,
   "metadata": {},
   "outputs": [],
   "source": [
    "\n",
    "import threading\n",
    "import time\n",
    "import logging\n",
    "class Profile:\n",
    "    def __init__(self):\n",
    "        self.i = 0\n",
    "    def snapshot(self):\n",
    "        self.i += 1        \n"
   ]
  },
  {
   "cell_type": "code",
   "execution_count": null,
   "metadata": {},
   "outputs": [],
   "source": [
    "\n",
    "\n",
    "def profiler(func): \n",
    "    active = threading.Lock() \n",
    "    profile = Profile()\n",
    "     \n",
    "    def profiling(profiler): \n",
    "        while active.locked(): \n",
    "            print(\"Inside loop\")\n",
    "            profiler.snapshot()\n",
    "            time.sleep(1) \n",
    "             \n",
    "    def wrapper(*args, **kwargs): \n",
    "        print(\"Inside wrapper\")\n",
    "        t = threading.Thread(target=profiling,args=(profile,)) \n",
    "        print(\"Started thread\")\n",
    "        active.acquire() \n",
    "        print(\"Acquired lock\")\n",
    "        t.start() \n",
    "        print(\"Started Thread\")\n",
    "        res = func(*args, **kwargs) \n",
    "        print(\"Launched wrapped function\")\n",
    "        active.release() \n",
    "        print(\"Releaseed the lock\")\n",
    "        print(profile.i)\n",
    "        print(\"Printed i\")\n",
    "        return res \n",
    "     \n",
    "    return wrapper \n"
   ]
  },
  {
   "cell_type": "code",
   "execution_count": null,
   "metadata": {},
   "outputs": [],
   "source": [
    "\n",
    "@profiler \n",
    "def test(): \n",
    "    time.sleep(3) \n",
    "test()\n"
   ]
  }
 ],
 "metadata": {
  "kernelspec": {
   "display_name": "recsys",
   "language": "python",
   "name": "python3"
  },
  "language_info": {
   "name": "python",
   "version": "3.10.6 | packaged by conda-forge | (main, Aug 22 2022, 20:35:26) [GCC 10.4.0]"
  },
  "orig_nbformat": 4,
  "vscode": {
   "interpreter": {
    "hash": "b95ac036dd134cdbc0e1cfc871143569fe44ed496162bf6c0ba7d4f738a04ef7"
   }
  }
 },
 "nbformat": 4,
 "nbformat_minor": 2
}
