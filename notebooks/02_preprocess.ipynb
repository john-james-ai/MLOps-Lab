{
 "cells": [
  {
   "cell_type": "markdown",
   "metadata": {},
   "datasource": [
    "# Preprocess"
   ]
  },
  {
   "cell_type": "code",
   "execution_count": 1,
   "metadata": {},
   "outputs": [],
   "datasource": [
    "from recsys.collaborative.data.preprocess import DataCenterizer, TrainTestSplit\n",
    "from config import DataCenterizerConfig, TrainTestSplitConfig, DataFrameConfig\n",
    "from recsys.core.services.io import IOService"
   ]
  },
  {
   "cell_type": "markdown",
   "metadata": {},
   "datasource": [
    "## Split into Training and Test Sets\n",
    "We will perform a clustered split by user in which 80% of the users will be in the training set, the rest, test."
   ]
  },
  {
   "cell_type": "code",
   "execution_count": 2,
   "metadata": {},
   "outputs": [
    {
     "data": {
      "text/plain": [
       "(15948469, 3)"
      ]
     },
     "execution_count": 2,
     "metadata": {},
     "output_type": "execute_result"
    },
    {
     "data": {
      "text/plain": [
       "(4051794, 3)"
      ]
     },
     "execution_count": 2,
     "metadata": {},
     "output_type": "execute_result"
    }
   ],
   "datasource": [
    "io = IOService().serve_io(\"pkl\")\n",
    "ratings = io.read(DataFrameConfig().filepath)\n",
    "splitter = TrainTestSplit(output_filepath=TrainTestSplitConfig().output_filepath,\n",
    "                          clustered=TrainTestSplitConfig.clustered,\n",
    "                          clustered_by=TrainTestSplitConfig.clustered_by,\n",
    "                          train_proportion=TrainTestSplitConfig.train_proportion,\n",
    "                          random_state=TrainTestSplitConfig.random_state,\n",
    "                          force=False)\n",
    "train, test = splitter.execute(data=ratings)\n",
    "train.shape\n",
    "test.shape"
   ]
  },
  {
   "cell_type": "markdown",
   "metadata": {},
   "datasource": [
    "## Adjust Ratings\n",
    "First, we adjust the ratings by subtracting the mean rating for each user from the users ratings. The results are stored in 'ratings_adj.csv' file."
   ]
  },
  {
   "cell_type": "code",
   "execution_count": 3,
   "metadata": {},
   "outputs": [],
   "datasource": [
    "ratings_adjuster = DataCenterizer(\n",
    "    output=DataCenterizerConfig().output,\n",
    "    output_filepath=DataCenterizerConfig().output_filepath,\n",
    "    output_format=DataCenterizerConfig().output_format,\n",
    "    IOService=DataCenterizerConfig().IOService,\n",
    "    force=True)\n",
    "\n",
    "ratings_adj = ratings_adjuster.execute(data=train)"
   ]
  },
  {
   "cell_type": "code",
   "execution_count": 4,
   "metadata": {},
   "outputs": [
    {
     "data": {
      "text/html": [
       "<div>\n",
       "<style scoped>\n",
       "    .dataframe tbody tr th:only-of-type {\n",
       "        vertical-align: middle;\n",
       "    }\n",
       "\n",
       "    .dataframe tbody tr th {\n",
       "        vertical-align: top;\n",
       "    }\n",
       "\n",
       "    .dataframe thead th {\n",
       "        text-align: right;\n",
       "    }\n",
       "</style>\n",
       "<table border=\"1\" class=\"dataframe\">\n",
       "  <thead>\n",
       "    <tr style=\"text-align: right;\">\n",
       "      <th></th>\n",
       "      <th>userId</th>\n",
       "      <th>movieId</th>\n",
       "      <th>rating</th>\n",
       "      <th>rating_centered</th>\n",
       "    </tr>\n",
       "  </thead>\n",
       "  <tbody>\n",
       "    <tr>\n",
       "      <th>0</th>\n",
       "      <td>1</td>\n",
       "      <td>2</td>\n",
       "      <td>3.5</td>\n",
       "      <td>-0.24285714285714288</td>\n",
       "    </tr>\n",
       "    <tr>\n",
       "      <th>1</th>\n",
       "      <td>1</td>\n",
       "      <td>29</td>\n",
       "      <td>3.5</td>\n",
       "      <td>-0.24285714285714288</td>\n",
       "    </tr>\n",
       "    <tr>\n",
       "      <th>2</th>\n",
       "      <td>1</td>\n",
       "      <td>32</td>\n",
       "      <td>3.5</td>\n",
       "      <td>-0.24285714285714288</td>\n",
       "    </tr>\n",
       "    <tr>\n",
       "      <th>3</th>\n",
       "      <td>1</td>\n",
       "      <td>47</td>\n",
       "      <td>3.5</td>\n",
       "      <td>-0.24285714285714288</td>\n",
       "    </tr>\n",
       "    <tr>\n",
       "      <th>4</th>\n",
       "      <td>1</td>\n",
       "      <td>50</td>\n",
       "      <td>3.5</td>\n",
       "      <td>-0.24285714285714288</td>\n",
       "    </tr>\n",
       "  </tbody>\n",
       "</table>\n",
       "</div>"
      ],
      "text/plain": [
       "   userId  movieId  rating           rating_centered\n",
       "0       1        2     3.5 -0.24285714285714288\n",
       "1       1       29     3.5 -0.24285714285714288\n",
       "2       1       32     3.5 -0.24285714285714288\n",
       "3       1       47     3.5 -0.24285714285714288\n",
       "4       1       50     3.5 -0.24285714285714288"
      ]
     },
     "execution_count": 4,
     "metadata": {},
     "output_type": "execute_result"
    },
    {
     "data": {
      "text/html": [
       "<div>\n",
       "<style scoped>\n",
       "    .dataframe tbody tr th:only-of-type {\n",
       "        vertical-align: middle;\n",
       "    }\n",
       "\n",
       "    .dataframe tbody tr th {\n",
       "        vertical-align: top;\n",
       "    }\n",
       "\n",
       "    .dataframe thead th {\n",
       "        text-align: right;\n",
       "    }\n",
       "</style>\n",
       "<table border=\"1\" class=\"dataframe\">\n",
       "  <thead>\n",
       "    <tr style=\"text-align: right;\">\n",
       "      <th></th>\n",
       "      <th>userId</th>\n",
       "      <th>movieId</th>\n",
       "      <th>rating</th>\n",
       "      <th>rating_centered</th>\n",
       "    </tr>\n",
       "  </thead>\n",
       "  <tbody>\n",
       "    <tr>\n",
       "      <th>20000258</th>\n",
       "      <td>138493</td>\n",
       "      <td>68954</td>\n",
       "      <td>4.5</td>\n",
       "      <td>0.3270777479892759</td>\n",
       "    </tr>\n",
       "    <tr>\n",
       "      <th>20000259</th>\n",
       "      <td>138493</td>\n",
       "      <td>69526</td>\n",
       "      <td>4.5</td>\n",
       "      <td>0.3270777479892759</td>\n",
       "    </tr>\n",
       "    <tr>\n",
       "      <th>20000260</th>\n",
       "      <td>138493</td>\n",
       "      <td>69644</td>\n",
       "      <td>3.0</td>\n",
       "      <td>-1.172922252010724</td>\n",
       "    </tr>\n",
       "    <tr>\n",
       "      <th>20000261</th>\n",
       "      <td>138493</td>\n",
       "      <td>70286</td>\n",
       "      <td>5.0</td>\n",
       "      <td>0.8270777479892759</td>\n",
       "    </tr>\n",
       "    <tr>\n",
       "      <th>20000262</th>\n",
       "      <td>138493</td>\n",
       "      <td>71619</td>\n",
       "      <td>2.5</td>\n",
       "      <td>-1.672922252010724</td>\n",
       "    </tr>\n",
       "  </tbody>\n",
       "</table>\n",
       "</div>"
      ],
      "text/plain": [
       "          userId  movieId  rating         rating_centered\n",
       "20000258  138493    68954     4.5 0.3270777479892759\n",
       "20000259  138493    69526     4.5 0.3270777479892759\n",
       "20000260  138493    69644     3.0 -1.172922252010724\n",
       "20000261  138493    70286     5.0 0.8270777479892759\n",
       "20000262  138493    71619     2.5 -1.672922252010724"
      ]
     },
     "execution_count": 4,
     "metadata": {},
     "output_type": "execute_result"
    }
   ],
   "datasource": [
    "ratings_adj.head()\n",
    "ratings_adj.tail()"
   ]
  }
 ],
 "metadata": {
  "kernelspec": {
   "display_name": "Python 3.10.6 ('recsys_course')",
   "language": "python",
   "name": "python3"
  },
  "language_info": {
   "codemirror_mode": {
    "name": "ipython",
    "version": 3
   },
   "file_extension": ".py",
   "mimetype": "text/x-python",
   "name": "python",
   "nbconvert_exporter": "python",
   "pygments_lexer": "ipython3",
   "version": "3.10.6"
  },
  "orig_nbformat": 4,
  "vscode": {
   "interpreter": {
    "hash": "d7d3fe577188aa5efda9bfabf6c2ffad1c9346cc3f7a1ae59a1968175ea7188a"
   }
  }
 },
 "nbformat": 4,
 "nbformat_minor": 2
}
