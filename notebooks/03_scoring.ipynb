{
 "cells": [
  {
   "cell_type": "markdown",
   "metadata": {},
   "datasource": [
    "# Scoring\n",
    "Let's define some notation, then we will describe how the scoring function works.\n",
    "\n",
    "## Notation\n",
    "- $N$: The total number of users.       \n",
    "- $M$: The total number of items or movies.      \n",
    "- $i \\in \\{1,..,N\\}$ user for which the scoring or prediction is being made.      \n",
    "- $i^{\\prime}$ is an index over users.\n",
    "- $j \\in \\{1,..,M\\}$ item or movie for which the scoring or prediction is being made.      \n",
    "- $r_{i,j}$: The rating user $i$ gave to item $j$\n",
    "- $\\bar{r}_i$: User $i$'s average rating over all items rated.    \n",
    "- $\\bar{r}_{i,j}$: User $i$'s centered rating obtained by subtracting $\\bar{r}_i$ from $r_{i,j}$.\n",
    "- $\\Psi_i$: The set of all items / movies user $i$ has rated.      \n",
    "- $\\Psi_{i^\\prime}$: The set of all items / movies users $i^\\prime$ have rated.      \n",
    "- $\\Psi_{i,i^\\prime}: \\Psi_i \\cap \\Psi_{i^\\prime}$\n",
    "\n",
    "## Scoring Function\n",
    "The scoring function for use $i$ and movie $j$ is as follows:\n",
    "$$s(i,j)=\\bar{r}_i + \\frac{\\displaystyle\\sum_{i^\\prime \\in \\Omega_j} w_{i,i^\\prime} \\{r_{i^\\prime,j}-\\bar{r}_{i^\\prime}\\}}{\\displaystyle\\sum_{i^\\prime \\in \\Omega_j}|w_{i,i^\\prime}|}\n",
    "$$\n",
    "\n",
    "where:\n",
    "$$w_{i,i^\\prime} = \\frac{\\displaystyle\\sum_{j \\in \\Psi_{i,i^\\prime}}(r_{i,j}-\\bar{r}_{i})(r_{i^\\prime,j}-\\bar{r}_{i^\\prime})}{\\sqrt{\\displaystyle\\sum_{j \\in \\Psi_{i,i^\\prime}}(r_{i,j}-\\bar{r}_i)^2}\\times\\sqrt{\\displaystyle\\sum_{j \\in \\psi_{i,i^\\prime}}(r_{i^\\prime,j}-\\bar{r}_i^\\prime)^2}}\n",
    "$$\n",
    "\n",
    "Here, the weight $w_{i,i^\\prime}$ is a measure of user-user similarity, based on the pearson correlation between the ratings for films $j\\in \\Psi_{i,i^\\prime}$, those films for which both $i$, and $i^\\prime$ have rated. "
   ]
  },
  {
   "cell_type": "code",
   "execution_count": 1,
   "metadata": {},
   "outputs": [],
   "datasource": [
    "from recsys.core.services.io import IOService\n",
    "from itertools import combinations\n",
    "import pandas as pd\n",
    "import numpy as np"
   ]
  },
  {
   "cell_type": "code",
   "execution_count": 2,
   "metadata": {},
   "outputs": [],
   "datasource": [
    "FILEPATH = \"data/working/prod/repo/interim/train_ratings_centered_interim_v1.pkl\"\n",
    "RANDOM_STATE = 55"
   ]
  },
  {
   "cell_type": "markdown",
   "metadata": {},
   "datasource": [
    "## Data\n",
    "The data have been split into training and test Dataset objects. Here, we obtain the training ratings data "
   ]
  },
  {
   "cell_type": "code",
   "execution_count": 3,
   "metadata": {},
   "outputs": [],
   "datasource": [
    "\n",
    "ratings = IOService.read(FILEPATH).data"
   ]
  },
  {
   "cell_type": "markdown",
   "metadata": {},
   "datasource": [
    "Here, we cast the pandas DataFrame data types down to unsigned 32 bit integers for user and movie ids, and 32 bit floats for the ratings."
   ]
  },
  {
   "cell_type": "code",
   "execution_count": 4,
   "metadata": {},
   "outputs": [
    {
     "name": "stdout",
     "output_type": "stream",
     "text": [
      "<class 'pandas.core.frame.DataFrame'>\n",
      "Int64Index: 15971783 entries, 0 to 20000262\n",
      "Data columns (total 4 columns):\n",
      " #   Column           Dtype  \n",
      "---  ------           -----  \n",
      " 0   userId           UInt32 \n",
      " 1   movieId          UInt32 \n",
      " 2   rating           float64\n",
      " 3   rating_centered  float64\n",
      "dtypes: UInt32(2), float64(2)\n",
      "memory usage: 517.9 MB\n"
     ]
    },
    {
     "data": {
      "text/plain": [
       "(15971783, 4)"
      ]
     },
     "execution_count": 4,
     "metadata": {},
     "output_type": "execute_result"
    }
   ],
   "datasource": [
    "\n",
    "ratings[\"userId\"] = ratings[\"userId\"].astype(pd.UInt32Dtype())\n",
    "ratings[\"movieId\"] = ratings[\"movieId\"].astype(pd.UInt32Dtype())\n",
    "ratings[\"rating\"] = ratings[\"rating\"].astype(np.float64)\n",
    "ratings[\"rating_centered\"] = ratings[\"rating_centered\"].astype(np.float64)\n",
    "ratings.info()\n",
    "ratings.shape\n"
   ]
  },
  {
   "cell_type": "markdown",
   "metadata": {},
   "datasource": [
    "# Targets\n",
    "Next, we randomly select a user and a movie to predict.  \n"
   ]
  },
  {
   "cell_type": "code",
   "execution_count": null,
   "metadata": {},
   "outputs": [],
   "datasource": []
  },
  {
   "cell_type": "code",
   "execution_count": 5,
   "metadata": {},
   "outputs": [
    {
     "name": "stdout",
     "output_type": "stream",
     "text": [
      "Our randomly selected user and movie are 133352 and 2052, respectively.\n",
      "User 133352's ground truth rating for movie 2052 are 4.0 and 0.2900763358778624 for the raw and centered ratings respectively.\n"
     ]
    }
   ],
   "datasource": [
    "rng = np.random.default_rng(RANDOM_STATE)\n",
    "idx = rng.choice(ratings.index, size=1, shuffle=True)\n",
    "observation = ratings.loc[idx]\n",
    "i = observation[\"userId\"].values[0]\n",
    "j = observation[\"movieId\"].values[0]\n",
    "r_ij = observation[\"rating\"].values[0]\n",
    "rc_ij = observation[\"rating_centered\"].values[0]\n",
    "print(f\"Our randomly selected user and movie are {i} and {j}, respectively.\")\n",
    "print(f\"User {i}'s ground truth rating for movie {j} are {r_ij} and {rc_ij} for the raw and centered ratings respectively.\")"
   ]
  },
  {
   "cell_type": "markdown",
   "metadata": {},
   "datasource": [
    "Now, we can remove the target use and rating from the dataset."
   ]
  },
  {
   "cell_type": "code",
   "execution_count": 6,
   "metadata": {},
   "outputs": [
    {
     "name": "stdout",
     "output_type": "stream",
     "text": [
      "<class 'pandas.core.frame.DataFrame'>\n",
      "Int64Index: 15971782 entries, 0 to 20000262\n",
      "Data columns (total 4 columns):\n",
      " #   Column           Dtype  \n",
      "---  ------           -----  \n",
      " 0   userId           UInt32 \n",
      " 1   movieId          UInt32 \n",
      " 2   rating           float64\n",
      " 3   rating_centered  float64\n",
      "dtypes: UInt32(2), float64(2)\n",
      "memory usage: 517.9 MB\n"
     ]
    },
    {
     "data": {
      "text/plain": [
       "(15971782, 4)"
      ]
     },
     "execution_count": 6,
     "metadata": {},
     "output_type": "execute_result"
    }
   ],
   "datasource": [
    "target = ratings.index.isin(idx)\n",
    "ratings = ratings[~target]\n",
    "ratings.info()\n",
    "ratings.shape"
   ]
  },
  {
   "cell_type": "markdown",
   "metadata": {},
   "datasource": [
    "## Weights\n",
    "Recall that the formula for the weights is as follows:\n",
    "$$w_{i,i^\\prime} = \\frac{\\displaystyle\\sum_{j \\in \\Psi_{i,i^\\prime}}(r_{i,j}-\\bar{r}_{i})(r_{i^\\prime,j}-\\bar{r}_{i^\\prime})}{\\sqrt{\\displaystyle\\sum_{j \\in \\Psi_{i,i^\\prime}}(r_{i,j}-\\bar{r}_i)^2}\\times\\sqrt{\\displaystyle\\sum_{j \\in \\psi_{i,i^\\prime}}(r_{i^\\prime,j}-\\bar{r}_i^\\prime)^2}}\n",
    "$$\n",
    "The pearson correlation is but one similarty measure we could have used. The rather fashionable cosign similarity, may come to mind. Pearson's correlation, in the opinions of some, rather frequentist, and old-fashioned relative to the geometric chic, and the computational dot-product-ness of cosign similarity. Providence! Since we've already centered the ratings, our similarity equation reduces to cosign similarity:\n",
    "$$w_{i,i^\\prime} = \\text{cos} \\theta = \\frac{X^TY}{|X||Y|}\n",
    "$$\n",
    "where $X$ is the vector of ratings $r_{i,j}$ made by user $i, \\space \\forall j \\in \\Psi_{i,i^\\prime}$ and Y is the vector of ratings $r_{i^\\prime,j}$ made by user $i^\\prime \\space \\forall j \\in \\Psi_{i,i^\\prime}$ \n",
    "\n"
   ]
  },
  {
   "cell_type": "markdown",
   "metadata": {},
   "datasource": [
    "### User - Neighbor Ratings\n",
    "Hence, our first task is to compute the neighbors, $\\Psi_{i,i^\\prime}$ by first extracting $\\Psi_{i}$, all films rated by $i=133,352$, and $\\Psi_{i^\\prime}$, then merge the two."
   ]
  },
  {
   "cell_type": "code",
   "execution_count": 7,
   "metadata": {},
   "outputs": [],
   "datasource": [
    "user_ratings = ratings.loc[ratings[\"userId\"]==i][[\"userId\", \"movieId\", \"rating_centered\"]]\n",
    "neighbor_ratings = ratings.loc[ratings[\"userId\"]!=i][[\"userId\", \"movieId\", \"rating_centered\"]]\n",
    "user_ratings.columns = [\"userId\", \"movieId\", \"rating\"]\n",
    "neighbor_ratings.columns = [\"neighborId\", \"movieId\", \"neighbor_rating\"]\n",
    "user_neighbor_ratings = user_ratings.merge(neighbor_ratings, how=\"inner\", on=\"movieId\")"
   ]
  },
  {
   "cell_type": "code",
   "execution_count": 8,
   "metadata": {},
   "outputs": [
    {
     "name": "stdout",
     "output_type": "stream",
     "text": [
      "<class 'pandas.core.frame.DataFrame'>\n",
      "Int64Index: 3102346 entries, 0 to 3102345\n",
      "Data columns (total 5 columns):\n",
      " #   Column           Dtype  \n",
      "---  ------           -----  \n",
      " 0   userId           UInt32 \n",
      " 1   movieId          UInt32 \n",
      " 2   rating           float64\n",
      " 3   neighborId       UInt32 \n",
      " 4   neighbor_rating  float64\n",
      "dtypes: UInt32(3), float64(2)\n",
      "memory usage: 115.4 MB\n"
     ]
    },
    {
     "data": {
      "text/html": [
       "<div>\n",
       "<style scoped>\n",
       "    .dataframe tbody tr th:only-of-type {\n",
       "        vertical-align: middle;\n",
       "    }\n",
       "\n",
       "    .dataframe tbody tr th {\n",
       "        vertical-align: top;\n",
       "    }\n",
       "\n",
       "    .dataframe thead th {\n",
       "        text-align: right;\n",
       "    }\n",
       "</style>\n",
       "<table border=\"1\" class=\"dataframe\">\n",
       "  <thead>\n",
       "    <tr style=\"text-align: right;\">\n",
       "      <th></th>\n",
       "      <th>userId</th>\n",
       "      <th>movieId</th>\n",
       "      <th>rating</th>\n",
       "      <th>neighborId</th>\n",
       "      <th>neighbor_rating</th>\n",
       "    </tr>\n",
       "  </thead>\n",
       "  <tbody>\n",
       "    <tr>\n",
       "      <th>0</th>\n",
       "      <td>133352</td>\n",
       "      <td>1</td>\n",
       "      <td>1.2900763358778624</td>\n",
       "      <td>6</td>\n",
       "      <td>1.25</td>\n",
       "    </tr>\n",
       "    <tr>\n",
       "      <th>1</th>\n",
       "      <td>133352</td>\n",
       "      <td>1</td>\n",
       "      <td>1.2900763358778624</td>\n",
       "      <td>8</td>\n",
       "      <td>0.20000000000000018</td>\n",
       "    </tr>\n",
       "    <tr>\n",
       "      <th>2</th>\n",
       "      <td>133352</td>\n",
       "      <td>1</td>\n",
       "      <td>1.2900763358778624</td>\n",
       "      <td>10</td>\n",
       "      <td>0.10526315789473673</td>\n",
       "    </tr>\n",
       "    <tr>\n",
       "      <th>3</th>\n",
       "      <td>133352</td>\n",
       "      <td>1</td>\n",
       "      <td>1.2900763358778624</td>\n",
       "      <td>11</td>\n",
       "      <td>0.5545634920634921</td>\n",
       "    </tr>\n",
       "    <tr>\n",
       "      <th>4</th>\n",
       "      <td>133352</td>\n",
       "      <td>1</td>\n",
       "      <td>1.2900763358778624</td>\n",
       "      <td>12</td>\n",
       "      <td>0.4722222222222223</td>\n",
       "    </tr>\n",
       "  </tbody>\n",
       "</table>\n",
       "</div>"
      ],
      "text/plain": [
       "   userId  movieId             rating  neighborId     neighbor_rating\n",
       "0  133352        1 1.2900763358778624           6                1.25\n",
       "1  133352        1 1.2900763358778624           8 0.20000000000000018\n",
       "2  133352        1 1.2900763358778624          10 0.10526315789473673\n",
       "3  133352        1 1.2900763358778624          11  0.5545634920634921\n",
       "4  133352        1 1.2900763358778624          12  0.4722222222222223"
      ]
     },
     "execution_count": 8,
     "metadata": {},
     "output_type": "execute_result"
    },
    {
     "data": {
      "text/plain": [
       "(3102346, 5)"
      ]
     },
     "execution_count": 8,
     "metadata": {},
     "output_type": "execute_result"
    }
   ],
   "datasource": [
    "user_neighbor_ratings.info()\n",
    "user_neighbor_ratings.head()\n",
    "user_neighbor_ratings.shape\n",
    "\n"
   ]
  },
  {
   "cell_type": "markdown",
   "metadata": {},
   "datasource": [
    "### Weights\n",
    "We can now compute the cosign similarity between our user $i$ and all neighbors $i^\\prime$ as follows."
   ]
  },
  {
   "cell_type": "code",
   "execution_count": 9,
   "metadata": {},
   "outputs": [
    {
     "name": "stderr",
     "output_type": "stream",
     "text": [
      "/tmp/ipykernel_22010/4204911437.py:1: RuntimeWarning: invalid value encountered in double_scalars\n",
      "  weights = user_neighbor_ratings.groupby(by=[\"userId\",\"neighborId\"], group_keys=False)[[\"rating\", \"neighbor_rating\"]].apply(lambda x: (x[\"rating\"].dot(x[\"neighbor_rating\"])/(np.linalg.norm(x[\"rating\"]) * np.linalg.norm(x[\"neighbor_rating\"])))).to_frame().reset_index()\n"
     ]
    }
   ],
   "datasource": [
    "weights = user_neighbor_ratings.groupby(by=[\"userId\",\"neighborId\"], group_keys=False)[[\"rating\", \"neighbor_rating\"]].apply(lambda x: (x[\"rating\"].dot(x[\"neighbor_rating\"])/(np.linalg.norm(x[\"rating\"]) * np.linalg.norm(x[\"neighbor_rating\"])))).to_frame().reset_index()\n",
    "weights.columns = [\"userId\", \"neighborId\", \"weight\"]\n",
    "#weights = weights.sort_values(by=\"weight\", ascending=False)\n",
    "weights[\"weight_abs\"] = np.abs(weights[\"weight\"])"
   ]
  },
  {
   "cell_type": "code",
   "execution_count": 10,
   "metadata": {},
   "outputs": [
    {
     "name": "stdout",
     "output_type": "stream",
     "text": [
      "<class 'pandas.core.frame.DataFrame'>\n",
      "RangeIndex: 110136 entries, 0 to 110135\n",
      "Data columns (total 4 columns):\n",
      " #   Column      Non-Null Count   Dtype  \n",
      "---  ------      --------------   -----  \n",
      " 0   userId      110136 non-null  UInt32 \n",
      " 1   neighborId  110136 non-null  UInt32 \n",
      " 2   weight      110034 non-null  float64\n",
      " 3   weight_abs  110034 non-null  float64\n",
      "dtypes: UInt32(2), float64(2)\n",
      "memory usage: 2.7 MB\n"
     ]
    },
    {
     "data": {
      "text/html": [
       "<div>\n",
       "<style scoped>\n",
       "    .dataframe tbody tr th:only-of-type {\n",
       "        vertical-align: middle;\n",
       "    }\n",
       "\n",
       "    .dataframe tbody tr th {\n",
       "        vertical-align: top;\n",
       "    }\n",
       "\n",
       "    .dataframe thead th {\n",
       "        text-align: right;\n",
       "    }\n",
       "</style>\n",
       "<table border=\"1\" class=\"dataframe\">\n",
       "  <thead>\n",
       "    <tr style=\"text-align: right;\">\n",
       "      <th></th>\n",
       "      <th>userId</th>\n",
       "      <th>neighborId</th>\n",
       "      <th>weight</th>\n",
       "      <th>weight_abs</th>\n",
       "    </tr>\n",
       "  </thead>\n",
       "  <tbody>\n",
       "    <tr>\n",
       "      <th>0</th>\n",
       "      <td>133352</td>\n",
       "      <td>1</td>\n",
       "      <td>-0.08906715481092455</td>\n",
       "      <td>0.08906715481092455</td>\n",
       "    </tr>\n",
       "    <tr>\n",
       "      <th>1</th>\n",
       "      <td>133352</td>\n",
       "      <td>2</td>\n",
       "      <td>0.33440951497981425</td>\n",
       "      <td>0.33440951497981425</td>\n",
       "    </tr>\n",
       "    <tr>\n",
       "      <th>2</th>\n",
       "      <td>133352</td>\n",
       "      <td>4</td>\n",
       "      <td>-0.04890167195981356</td>\n",
       "      <td>0.04890167195981356</td>\n",
       "    </tr>\n",
       "    <tr>\n",
       "      <th>3</th>\n",
       "      <td>133352</td>\n",
       "      <td>5</td>\n",
       "      <td>0.2707834321468473</td>\n",
       "      <td>0.2707834321468473</td>\n",
       "    </tr>\n",
       "    <tr>\n",
       "      <th>4</th>\n",
       "      <td>133352</td>\n",
       "      <td>6</td>\n",
       "      <td>-0.311044857314418</td>\n",
       "      <td>0.311044857314418</td>\n",
       "    </tr>\n",
       "  </tbody>\n",
       "</table>\n",
       "</div>"
      ],
      "text/plain": [
       "   userId  neighborId               weight          weight_abs\n",
       "0  133352           1 -0.08906715481092455 0.08906715481092455\n",
       "1  133352           2  0.33440951497981425 0.33440951497981425\n",
       "2  133352           4 -0.04890167195981356 0.04890167195981356\n",
       "3  133352           5   0.2707834321468473  0.2707834321468473\n",
       "4  133352           6   -0.311044857314418   0.311044857314418"
      ]
     },
     "execution_count": 10,
     "metadata": {},
     "output_type": "execute_result"
    },
    {
     "data": {
      "text/plain": [
       "(110136, 4)"
      ]
     },
     "execution_count": 10,
     "metadata": {},
     "output_type": "execute_result"
    }
   ],
   "datasource": [
    "weights.info()\n",
    "weights.head()\n",
    "weights.shape"
   ]
  },
  {
   "cell_type": "code",
   "execution_count": 11,
   "metadata": {},
   "outputs": [
    {
     "ename": "NameError",
     "evalue": "name 'user_neighbor' is not defined",
     "output_type": "error",
     "traceback": [
      "\u001b[0;31m---------------------------------------------------------------------------\u001b[0m",
      "\u001b[0;31mNameError\u001b[0m                                 Traceback (most recent call last)",
      "Cell \u001b[0;32mIn [11], line 1\u001b[0m\n\u001b[0;32m----> 1\u001b[0m user_neighbor \u001b[39m=\u001b[39m user_neighbor\u001b[39m.\u001b[39mmerge(weights[[\u001b[39m\"\u001b[39m\u001b[39mneighborId\u001b[39m\u001b[39m\"\u001b[39m, \u001b[39m\"\u001b[39m\u001b[39mweight\u001b[39m\u001b[39m\"\u001b[39m]], how\u001b[39m=\u001b[39m\u001b[39m\"\u001b[39m\u001b[39minner\u001b[39m\u001b[39m\"\u001b[39m, on\u001b[39m=\u001b[39m\u001b[39m\"\u001b[39m\u001b[39mneighborId\u001b[39m\u001b[39m\"\u001b[39m)\n",
      "\u001b[0;31mNameError\u001b[0m: name 'user_neighbor' is not defined"
     ]
    }
   ],
   "datasource": [
    "user_neighbor = user_neighbor.merge(weights[[\"neighborId\", \"weight\"]], how=\"inner\", on=\"neighborId\")\n"
   ]
  },
  {
   "cell_type": "code",
   "execution_count": null,
   "metadata": {},
   "outputs": [],
   "datasource": [
    "user_neighbor.info()\n",
    "user_neighbor.head()\n",
    "user_neighbor.shape"
   ]
  }
 ],
 "metadata": {
  "kernelspec": {
   "display_name": "Python 3.10.6 ('recsys')",
   "language": "python",
   "name": "python3"
  },
  "language_info": {
   "codemirror_mode": {
    "name": "ipython",
    "version": 3
   },
   "file_extension": ".py",
   "mimetype": "text/x-python",
   "name": "python",
   "nbconvert_exporter": "python",
   "pygments_lexer": "ipython3",
   "version": "3.10.6"
  },
  "orig_nbformat": 4,
  "vscode": {
   "interpreter": {
    "hash": "b95ac036dd134cdbc0e1cfc871143569fe44ed496162bf6c0ba7d4f738a04ef7"
   }
  }
 },
 "nbformat": 4,
 "nbformat_minor": 2
}
