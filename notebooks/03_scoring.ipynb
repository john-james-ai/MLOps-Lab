{
 "cells": [
  {
   "cell_type": "markdown",
   "metadata": {},
   "source": [
    "# Collaborative Filtering Scoring"
   ]
  },
  {
   "cell_type": "markdown",
   "metadata": {},
   "source": [
    "## Compute Weights\n",
    "Here, we compute  the weights for a user i. The pseudo code is as follows:\n",
    "\n",
    "ComputeWeights(i)\n",
    "Inputs: Ratings = Adjusted Ratings\n",
    "1. J = select all movies from R where userId = i\n",
    "2. R = all rows from Ratings where movieId in J\n",
    "3. neighbors = unique userIds from R where user_id not equal to i\n",
    "4. for neighbor in neighbors:                \n",
    "    4.1 phi = unique movieIds from R where userId == neighbor          \n",
    "    4.2 x = dataframe of movie, rating for movie in phi and user i (sorted by movie)          \n",
    "    4.3 y = dataframe of movie, rating for movie in phi and user = neighbor (sorted by movie)           \n",
    "    4.4 weight = cosign sim x,y to dataframe (neighbor, weight)             \n",
    "    "
   ]
  },
  {
   "cell_type": "code",
   "execution_count": null,
   "metadata": {},
   "outputs": [],
   "source": [
    "import pandas as pd\n",
    "from recsys.core.services.io import IOService"
   ]
  },
  {
   "cell_type": "code",
   "execution_count": null,
   "metadata": {},
   "outputs": [],
   "source": [
    "FILEPATH = \"tests/data/movielens25M/repo/test/interim/adjusted_ratings_test_interim_v1.pkl\"\n",
    "USER = "
   ]
  },
  {
   "cell_type": "code",
   "execution_count": null,
   "metadata": {},
   "outputs": [],
   "source": [
    "display(HTML('<h3>Loading Ratings Data</h1>'))\n",
    "\n",
    "ratings = IOService.read(filepath)\n",
    "ratings.info()"
   ]
  },
  {
   "cell_type": "code",
   "execution_count": null,
   "metadata": {},
   "outputs": [],
   "source": []
  }
 ],
 "metadata": {
  "kernelspec": {
   "display_name": "Python 3.10.6 ('recsys')",
   "language": "python",
   "name": "python3"
  },
  "language_info": {
   "codemirror_mode": {
    "name": "ipython",
    "version": 3
   },
   "file_extension": ".py",
   "mimetype": "text/x-python",
   "name": "python",
   "nbconvert_exporter": "python",
   "pygments_lexer": "ipython3",
   "version": "3.10.6"
  },
  "orig_nbformat": 4,
  "vscode": {
   "interpreter": {
    "hash": "b95ac036dd134cdbc0e1cfc871143569fe44ed496162bf6c0ba7d4f738a04ef7"
   }
  }
 },
 "nbformat": 4,
 "nbformat_minor": 2
}
