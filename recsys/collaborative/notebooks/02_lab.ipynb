{
 "cells": [
  {
   "cell_type": "markdown",
   "metadata": {},
   "source": [
    "# Lab"
   ]
  },
  {
   "cell_type": "code",
   "execution_count": 1,
   "metadata": {},
   "outputs": [],
   "source": [
    "import warnings\n",
    "from recsys.core.utils.data import clustered_sample\n",
    "from recsys.core.dal.dataset import DatasetParams\n",
    "from pprint import pprint\n",
    "warnings.filterwarnings(\"ignore\")"
   ]
  },
  {
   "cell_type": "code",
   "execution_count": 15,
   "metadata": {},
   "outputs": [
    {
     "name": "stdout",
     "output_type": "stream",
     "text": [
      "{'description': 'Rating Dataset',\n",
      " 'env': 'test',\n",
      " 'name': 'rating',\n",
      " 'stage': 'cooked',\n",
      " 'version': 1}\n",
      "'some_file'\n",
      "{1: {'description': 'Rating Output1',\n",
      "     'env': 'prod',\n",
      "     'name': 'output1',\n",
      "     'stage': 'interim',\n",
      "     'version': 1},\n",
      " 2: {'description': 'Rating Output2',\n",
      "     'env': 'dev',\n",
      "     'name': 'output2',\n",
      "     'stage': 'raw',\n",
      "     'version': 2},\n",
      " 3: {'description': 'Rating Output3',\n",
      "     'env': 'test',\n",
      "     'name': 'output3',\n",
      "     'stage': 'cooked',\n",
      "     'version': 3}}\n",
      "False\n",
      "DatasetParams(name='rating', stage='cooked', env='test', version=1, id='test_cooked_rating_1', description='Rating Dataset')\n"
     ]
    }
   ],
   "source": [
    "d = {\n",
    "    'input_file_params': \"some_file\",\n",
    "    \"input_dataset_params\": {\n",
    "        \"name\": \"rating\",\n",
    "        \"env\": \"test\",\n",
    "        \"stage\": \"cooked\",\n",
    "        \"version\": 1,\n",
    "        \"description\": \"Rating Dataset\" },\n",
    "    \"output_dataset_params\": {\n",
    "        1: {\n",
    "        \"name\": \"output1\",\n",
    "        \"env\": \"prod\",\n",
    "        \"stage\": \"interim\",\n",
    "        \"version\": 1,\n",
    "        \"description\": \"Rating Output1\"},\n",
    "        \n",
    "        2: {\n",
    "        \"name\": \"output2\",\n",
    "        \"env\": \"dev\",\n",
    "        \"stage\": \"raw\",\n",
    "        \"version\": 2,\n",
    "        \"description\": \"Rating Output2\"},       \n",
    "        3: {\n",
    "        \"name\": \"output3\",\n",
    "        \"env\": \"test\",\n",
    "        \"stage\": \"cooked\",\n",
    "        \"version\": 3,\n",
    "        \"description\": \"Rating Output3\"}\n",
    "        }\n",
    "        \n",
    "}\n",
    "scope = {}\n",
    "def iterdict(d):\n",
    "  for k,v in d.items():        \n",
    "     if isinstance(v, dict):\n",
    "        if \"input_file_params\" == k:\n",
    "            scope[k] = v\n",
    "        elif \"input_dataset_params\" == k:                        \n",
    "            scope[k] = v\n",
    "        elif \"output_dataset_params\" == k:            \n",
    "            scope[k] = v\n",
    "        \n",
    "     else:                    \n",
    "        scope[k] = v\n",
    "        \n",
    "\n",
    "\n",
    "\n",
    "\n",
    "            \n",
    "iterdict(d)\n",
    "pprint(scope[\"input_dataset_params\"])\n",
    "pprint(scope[\"input_file_params\"])\n",
    "pprint(scope[\"output_dataset_params\"])\n",
    "print(\"name\" in scope[\"output_dataset_params\"].keys())\n",
    "d = {}\n",
    "for k,v in scope[\"input_dataset_params\"].items():\n",
    "    if isinstance(k,int):                      \n",
    "        for k,v in v.items():\n",
    "            d[k] = v\n",
    "        dp = DatasetParams(**d)\n",
    "        print(dp)\n",
    "    else:\n",
    "        d[k] = v\n",
    "dp = DatasetParams(**d)\n",
    "print(dp)\n",
    "    "
   ]
  },
  {
   "cell_type": "code",
   "execution_count": 8,
   "metadata": {},
   "outputs": [
    {
     "name": "stdout",
     "output_type": "stream",
     "text": [
      "129,634\n",
      "936\n",
      "127812\n",
      "RAM memory % used: 0.72\n"
     ]
    }
   ],
   "source": [
    "import os\n",
    " \n",
    "# Getting all memory using os.popen()\n",
    "total_memory, used_memory, free_memory = map(\n",
    "    int, os.popen('free -t -m').readlines()[-1].split()[1:])\n",
    "print('{:,}'.format(total_memory))\n",
    "print(used_memory)\n",
    "print(free_memory)\n",
    "# Memory usage\n",
    "print(\"RAM memory % used:\", round((used_memory/total_memory) * 100, 2))"
   ]
  },
  {
   "cell_type": "code",
   "execution_count": 9,
   "metadata": {},
   "outputs": [
    {
     "name": "stdout",
     "output_type": "stream",
     "text": [
      "The CPU usage is :  0.16666666666666669\n"
     ]
    }
   ],
   "source": [
    "\n",
    "import os\n",
    "import psutil\n",
    " \n",
    "# Getting loadover15 minutes\n",
    "load1, load5, load15 = psutil.getloadavg()\n",
    " \n",
    "cpu_usage = (load15/os.cpu_count()) * 100\n",
    " \n",
    "print(\"The CPU usage is : \", cpu_usage)"
   ]
  }
 ],
 "metadata": {
  "kernelspec": {
   "display_name": "Python 3.10.6 ('recsys')",
   "language": "python",
   "name": "python3"
  },
  "language_info": {
   "codemirror_mode": {
    "name": "ipython",
    "version": 3
   },
   "file_extension": ".py",
   "mimetype": "text/x-python",
   "name": "python",
   "nbconvert_exporter": "python",
   "pygments_lexer": "ipython3",
   "version": "3.10.6"
  },
  "orig_nbformat": 4,
  "vscode": {
   "interpreter": {
    "hash": "b95ac036dd134cdbc0e1cfc871143569fe44ed496162bf6c0ba7d4f738a04ef7"
   }
  }
 },
 "nbformat": 4,
 "nbformat_minor": 2
}
