{
 "cells": [
  {
   "cell_type": "markdown",
   "metadata": {},
   "source": [
    "# Lab"
   ]
  },
  {
   "cell_type": "code",
   "execution_count": 13,
   "metadata": {},
   "outputs": [],
   "source": [
    "import warnings\n",
    "from recsys.core.utils.data import clustered_sample\n",
    "from recsys.core.dal.dataset import DatasetParams\n",
    "from pprint import pprint\n",
    "warnings.filterwarnings(\"ignore\")"
   ]
  },
  {
   "cell_type": "code",
   "execution_count": 21,
   "metadata": {},
   "outputs": [
    {
     "ename": "TypeError",
     "evalue": "DatasetParams.__init__() got an unexpected keyword argument 'filepath'",
     "output_type": "error",
     "traceback": [
      "\u001b[0;31m---------------------------------------------------------------------------\u001b[0m",
      "\u001b[0;31mTypeError\u001b[0m                                 Traceback (most recent call last)",
      "Cell \u001b[0;32mIn [21], line 43\u001b[0m\n\u001b[1;32m     38\u001b[0m         ds \u001b[39m=\u001b[39m DatasetParams(\u001b[39m*\u001b[39m\u001b[39m*\u001b[39md)        \n\u001b[1;32m     39\u001b[0m         scope[ds\u001b[39m.\u001b[39mid] \u001b[39m=\u001b[39m ds\n\u001b[0;32m---> 43\u001b[0m iterdict(e)\n\u001b[1;32m     44\u001b[0m pprint(scope)\n\u001b[1;32m     45\u001b[0m \u001b[39mfor\u001b[39;00m k,v \u001b[39min\u001b[39;00m scope\u001b[39m.\u001b[39mitems():\n",
      "Cell \u001b[0;32mIn [21], line 36\u001b[0m, in \u001b[0;36miterdict\u001b[0;34m(d)\u001b[0m\n\u001b[1;32m     34\u001b[0m \u001b[39mfor\u001b[39;00m k,v \u001b[39min\u001b[39;00m d\u001b[39m.\u001b[39mitems():\n\u001b[1;32m     35\u001b[0m   \u001b[39mif\u001b[39;00m \u001b[39misinstance\u001b[39m(v, \u001b[39mdict\u001b[39m):\n\u001b[0;32m---> 36\u001b[0m       iterdict(v)\n\u001b[1;32m     37\u001b[0m   \u001b[39melif\u001b[39;00m d\u001b[39m.\u001b[39mget(\u001b[39m\"\u001b[39m\u001b[39mname\u001b[39m\u001b[39m\"\u001b[39m,\u001b[39mNone\u001b[39;00m) \u001b[39mis\u001b[39;00m \u001b[39mnot\u001b[39;00m \u001b[39mNone\u001b[39;00m:\n\u001b[1;32m     38\u001b[0m       ds \u001b[39m=\u001b[39m DatasetParams(\u001b[39m*\u001b[39m\u001b[39m*\u001b[39md)        \n",
      "Cell \u001b[0;32mIn [21], line 38\u001b[0m, in \u001b[0;36miterdict\u001b[0;34m(d)\u001b[0m\n\u001b[1;32m     36\u001b[0m     iterdict(v)\n\u001b[1;32m     37\u001b[0m \u001b[39melif\u001b[39;00m d\u001b[39m.\u001b[39mget(\u001b[39m\"\u001b[39m\u001b[39mname\u001b[39m\u001b[39m\"\u001b[39m,\u001b[39mNone\u001b[39;00m) \u001b[39mis\u001b[39;00m \u001b[39mnot\u001b[39;00m \u001b[39mNone\u001b[39;00m:\n\u001b[0;32m---> 38\u001b[0m     ds \u001b[39m=\u001b[39m DatasetParams(\u001b[39m*\u001b[39;49m\u001b[39m*\u001b[39;49md)        \n\u001b[1;32m     39\u001b[0m     scope[ds\u001b[39m.\u001b[39mid] \u001b[39m=\u001b[39m ds\n",
      "\u001b[0;31mTypeError\u001b[0m: DatasetParams.__init__() got an unexpected keyword argument 'filepath'"
     ]
    }
   ],
   "source": [
    "d = {\"dataset_in_po\": {\n",
    "        \"train\" : {\n",
    "            \"name\": \"output1\",\n",
    "            \"env\": \"prod\",\n",
    "            \"stage\": \"interim\",\n",
    "            \"version\": 1,\n",
    "            \"version_control\": True,\n",
    "            \"description\": \"Rating Output1\"},\n",
    "      \n",
    "        \"test\": {\n",
    "        \"name\": \"output2\",\n",
    "        \"env\": \"dev\",\n",
    "        \"stage\": \"raw\",\n",
    "        \"version\": 2,\n",
    "        \"version_control\": False,\n",
    "        \"description\": \"Rating Output2\"},               \n",
    "        },\n",
    "        \n",
    "        \n",
    "}\n",
    "\n",
    "e = {\"dataset_in_po\": {\n",
    "            \"name\": \"output1\",\n",
    "            \"env\": \"prod\",\n",
    "            \"stage\": \"interim\",\n",
    "            \"version\": 1,\n",
    "            \"filepath\": \"tests/data/ratings.pkl\",\n",
    "            \"version_control\": True,\n",
    "            \"description\": \"Rating Output1\"},     \n",
    "        \n",
    "}\n",
    "scope = {}\n",
    "def iterdict(d):\n",
    "  for k,v in d.items():\n",
    "    if isinstance(v, dict):\n",
    "        iterdict(v)\n",
    "    elif d.get(\"name\",None) is not None:\n",
    "        ds = DatasetParams(**d)        \n",
    "        scope[ds.id] = ds\n",
    "\n",
    "        \n",
    "\n",
    "iterdict(e)\n",
    "pprint(scope)\n",
    "for k,v in scope.items():\n",
    "    if v.get(\"filepath\", None) is not None:\n",
    "        print(\"read from file\")\n",
    "    else:\n",
    "        print(\"create from repo\")\n",
    "    "
   ]
  },
  {
   "cell_type": "code",
   "execution_count": 3,
   "metadata": {},
   "outputs": [
    {
     "name": "stdout",
     "output_type": "stream",
     "text": [
      "129,634\n",
      "1420\n",
      "125989\n",
      "RAM memory % used: 1.1\n"
     ]
    }
   ],
   "source": [
    "import os\n",
    " \n",
    "# Getting all memory using os.popen()\n",
    "total_memory, used_memory, free_memory = map(\n",
    "    int, os.popen('free -t -m').readlines()[-1].split()[1:])\n",
    "print('{:,}'.format(total_memory))\n",
    "print(used_memory)\n",
    "print(free_memory)\n",
    "# Memory usage\n",
    "print(\"RAM memory % used:\", round((used_memory/total_memory) * 100, 2))"
   ]
  },
  {
   "cell_type": "code",
   "execution_count": 4,
   "metadata": {},
   "outputs": [
    {
     "name": "stdout",
     "output_type": "stream",
     "text": [
      "The CPU usage is :  0.5\n"
     ]
    }
   ],
   "source": [
    "\n",
    "import os\n",
    "import psutil\n",
    " \n",
    "# Getting loadover15 minutes\n",
    "load1, load5, load15 = psutil.getloadavg()\n",
    " \n",
    "cpu_usage = (load15/os.cpu_count()) * 100\n",
    " \n",
    "print(\"The CPU usage is : \", cpu_usage)"
   ]
  }
 ],
 "metadata": {
  "kernelspec": {
   "display_name": "Python 3.10.6 ('recsys')",
   "language": "python",
   "name": "python3"
  },
  "language_info": {
   "codemirror_mode": {
    "name": "ipython",
    "version": 3
   },
   "file_extension": ".py",
   "mimetype": "text/x-python",
   "name": "python",
   "nbconvert_exporter": "python",
   "pygments_lexer": "ipython3",
   "version": "3.10.6"
  },
  "orig_nbformat": 4,
  "vscode": {
   "interpreter": {
    "hash": "b95ac036dd134cdbc0e1cfc871143569fe44ed496162bf6c0ba7d4f738a04ef7"
   }
  }
 },
 "nbformat": 4,
 "nbformat_minor": 2
}
